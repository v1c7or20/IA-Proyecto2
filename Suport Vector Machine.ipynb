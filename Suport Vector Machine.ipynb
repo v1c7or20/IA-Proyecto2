{
  "nbformat": 4,
  "nbformat_minor": 0,
  "metadata": {
    "colab": {
      "provenance": []
    },
    "kernelspec": {
      "name": "python3",
      "display_name": "Python 3"
    },
    "language_info": {
      "name": "python"
    }
  },
  "cells": [
    {
      "cell_type": "markdown",
      "source": [
        "# Importación de Librerías\n",
        "\n"
      ],
      "metadata": {
        "id": "af1gQ2p1qGEy"
      }
    },
    {
      "cell_type": "code",
      "source": [
        "from google.colab import drive\n",
        "drive.mount('/content/drive')"
      ],
      "metadata": {
        "colab": {
          "base_uri": "https://localhost:8080/"
        },
        "id": "yTC21_6CrdrU",
        "outputId": "a083b491-50e8-49d6-e39c-4f2e37fd73e7"
      },
      "execution_count": null,
      "outputs": [
        {
          "output_type": "stream",
          "name": "stdout",
          "text": [
            "Mounted at /content/drive\n"
          ]
        }
      ]
    },
    {
      "cell_type": "code",
      "execution_count": null,
      "metadata": {
        "colab": {
          "base_uri": "https://localhost:8080/"
        },
        "id": "o5Pd8Q4Kj7Zi",
        "outputId": "20d51642-7b85-4e16-bd84-b87e0162b7af"
      },
      "outputs": [
        {
          "output_type": "stream",
          "name": "stdout",
          "text": [
            "['amer_sign2.png', 'american_sign_language.PNG', 'sign_mnist_test.csv', 'amer_sign3.png', 'sign_mnist_train.csv', 'sign_mnist_train', 'sign_mnist_test']\n"
          ]
        }
      ],
      "source": [
        "import numpy as np\n",
        "import pandas as pd\n",
        "import os\n",
        "dir = \"/content/drive/MyDrive/AI/Databases/P2/\"\n",
        "print(os.listdir(dir))"
      ]
    },
    {
      "cell_type": "code",
      "source": [
        "import matplotlib.pyplot as plt\n",
        "from sklearn.model_selection import train_test_split\n",
        "from sklearn.neural_network import MLPClassifier\n",
        "from sklearn.metrics import accuracy_score, confusion_matrix\n",
        "from sklearn.decomposition import PCA\n",
        "from sklearn.preprocessing import StandardScaler\n",
        "from sklearn.pipeline import make_pipeline\n",
        "from sklearn.svm import SVC\n",
        "trainDir = dir + \"sign_mnist_train.csv\"\n",
        "testDir = dir + \"sign_mnist_train.csv\"\n",
        "df = pd.read_csv(trainDir)\n",
        "testdf = pd.read_csv(testDir)\n",
        "df.head()"
      ],
      "metadata": {
        "colab": {
          "base_uri": "https://localhost:8080/",
          "height": 279
        },
        "id": "rKqD9R_7rUUd",
        "outputId": "24881781-5861-4841-e523-1bf44d877b1f"
      },
      "execution_count": null,
      "outputs": [
        {
          "output_type": "execute_result",
          "data": {
            "text/plain": [
              "   label  pixel1  pixel2  pixel3  pixel4  pixel5  pixel6  pixel7  pixel8  \\\n",
              "0      3     107     118     127     134     139     143     146     150   \n",
              "1      6     155     157     156     156     156     157     156     158   \n",
              "2      2     187     188     188     187     187     186     187     188   \n",
              "3      2     211     211     212     212     211     210     211     210   \n",
              "4     13     164     167     170     172     176     179     180     184   \n",
              "\n",
              "   pixel9  ...  pixel775  pixel776  pixel777  pixel778  pixel779  pixel780  \\\n",
              "0     153  ...       207       207       207       207       206       206   \n",
              "1     158  ...        69       149       128        87        94       163   \n",
              "2     187  ...       202       201       200       199       198       199   \n",
              "3     210  ...       235       234       233       231       230       226   \n",
              "4     185  ...        92       105       105       108       133       163   \n",
              "\n",
              "   pixel781  pixel782  pixel783  pixel784  \n",
              "0       206       204       203       202  \n",
              "1       175       103       135       149  \n",
              "2       198       195       194       195  \n",
              "3       225       222       229       163  \n",
              "4       157       163       164       179  \n",
              "\n",
              "[5 rows x 785 columns]"
            ],
            "text/html": [
              "\n",
              "  <div id=\"df-f5d5e551-74b7-4461-a8b6-0c38ac592018\">\n",
              "    <div class=\"colab-df-container\">\n",
              "      <div>\n",
              "<style scoped>\n",
              "    .dataframe tbody tr th:only-of-type {\n",
              "        vertical-align: middle;\n",
              "    }\n",
              "\n",
              "    .dataframe tbody tr th {\n",
              "        vertical-align: top;\n",
              "    }\n",
              "\n",
              "    .dataframe thead th {\n",
              "        text-align: right;\n",
              "    }\n",
              "</style>\n",
              "<table border=\"1\" class=\"dataframe\">\n",
              "  <thead>\n",
              "    <tr style=\"text-align: right;\">\n",
              "      <th></th>\n",
              "      <th>label</th>\n",
              "      <th>pixel1</th>\n",
              "      <th>pixel2</th>\n",
              "      <th>pixel3</th>\n",
              "      <th>pixel4</th>\n",
              "      <th>pixel5</th>\n",
              "      <th>pixel6</th>\n",
              "      <th>pixel7</th>\n",
              "      <th>pixel8</th>\n",
              "      <th>pixel9</th>\n",
              "      <th>...</th>\n",
              "      <th>pixel775</th>\n",
              "      <th>pixel776</th>\n",
              "      <th>pixel777</th>\n",
              "      <th>pixel778</th>\n",
              "      <th>pixel779</th>\n",
              "      <th>pixel780</th>\n",
              "      <th>pixel781</th>\n",
              "      <th>pixel782</th>\n",
              "      <th>pixel783</th>\n",
              "      <th>pixel784</th>\n",
              "    </tr>\n",
              "  </thead>\n",
              "  <tbody>\n",
              "    <tr>\n",
              "      <th>0</th>\n",
              "      <td>3</td>\n",
              "      <td>107</td>\n",
              "      <td>118</td>\n",
              "      <td>127</td>\n",
              "      <td>134</td>\n",
              "      <td>139</td>\n",
              "      <td>143</td>\n",
              "      <td>146</td>\n",
              "      <td>150</td>\n",
              "      <td>153</td>\n",
              "      <td>...</td>\n",
              "      <td>207</td>\n",
              "      <td>207</td>\n",
              "      <td>207</td>\n",
              "      <td>207</td>\n",
              "      <td>206</td>\n",
              "      <td>206</td>\n",
              "      <td>206</td>\n",
              "      <td>204</td>\n",
              "      <td>203</td>\n",
              "      <td>202</td>\n",
              "    </tr>\n",
              "    <tr>\n",
              "      <th>1</th>\n",
              "      <td>6</td>\n",
              "      <td>155</td>\n",
              "      <td>157</td>\n",
              "      <td>156</td>\n",
              "      <td>156</td>\n",
              "      <td>156</td>\n",
              "      <td>157</td>\n",
              "      <td>156</td>\n",
              "      <td>158</td>\n",
              "      <td>158</td>\n",
              "      <td>...</td>\n",
              "      <td>69</td>\n",
              "      <td>149</td>\n",
              "      <td>128</td>\n",
              "      <td>87</td>\n",
              "      <td>94</td>\n",
              "      <td>163</td>\n",
              "      <td>175</td>\n",
              "      <td>103</td>\n",
              "      <td>135</td>\n",
              "      <td>149</td>\n",
              "    </tr>\n",
              "    <tr>\n",
              "      <th>2</th>\n",
              "      <td>2</td>\n",
              "      <td>187</td>\n",
              "      <td>188</td>\n",
              "      <td>188</td>\n",
              "      <td>187</td>\n",
              "      <td>187</td>\n",
              "      <td>186</td>\n",
              "      <td>187</td>\n",
              "      <td>188</td>\n",
              "      <td>187</td>\n",
              "      <td>...</td>\n",
              "      <td>202</td>\n",
              "      <td>201</td>\n",
              "      <td>200</td>\n",
              "      <td>199</td>\n",
              "      <td>198</td>\n",
              "      <td>199</td>\n",
              "      <td>198</td>\n",
              "      <td>195</td>\n",
              "      <td>194</td>\n",
              "      <td>195</td>\n",
              "    </tr>\n",
              "    <tr>\n",
              "      <th>3</th>\n",
              "      <td>2</td>\n",
              "      <td>211</td>\n",
              "      <td>211</td>\n",
              "      <td>212</td>\n",
              "      <td>212</td>\n",
              "      <td>211</td>\n",
              "      <td>210</td>\n",
              "      <td>211</td>\n",
              "      <td>210</td>\n",
              "      <td>210</td>\n",
              "      <td>...</td>\n",
              "      <td>235</td>\n",
              "      <td>234</td>\n",
              "      <td>233</td>\n",
              "      <td>231</td>\n",
              "      <td>230</td>\n",
              "      <td>226</td>\n",
              "      <td>225</td>\n",
              "      <td>222</td>\n",
              "      <td>229</td>\n",
              "      <td>163</td>\n",
              "    </tr>\n",
              "    <tr>\n",
              "      <th>4</th>\n",
              "      <td>13</td>\n",
              "      <td>164</td>\n",
              "      <td>167</td>\n",
              "      <td>170</td>\n",
              "      <td>172</td>\n",
              "      <td>176</td>\n",
              "      <td>179</td>\n",
              "      <td>180</td>\n",
              "      <td>184</td>\n",
              "      <td>185</td>\n",
              "      <td>...</td>\n",
              "      <td>92</td>\n",
              "      <td>105</td>\n",
              "      <td>105</td>\n",
              "      <td>108</td>\n",
              "      <td>133</td>\n",
              "      <td>163</td>\n",
              "      <td>157</td>\n",
              "      <td>163</td>\n",
              "      <td>164</td>\n",
              "      <td>179</td>\n",
              "    </tr>\n",
              "  </tbody>\n",
              "</table>\n",
              "<p>5 rows × 785 columns</p>\n",
              "</div>\n",
              "      <button class=\"colab-df-convert\" onclick=\"convertToInteractive('df-f5d5e551-74b7-4461-a8b6-0c38ac592018')\"\n",
              "              title=\"Convert this dataframe to an interactive table.\"\n",
              "              style=\"display:none;\">\n",
              "        \n",
              "  <svg xmlns=\"http://www.w3.org/2000/svg\" height=\"24px\"viewBox=\"0 0 24 24\"\n",
              "       width=\"24px\">\n",
              "    <path d=\"M0 0h24v24H0V0z\" fill=\"none\"/>\n",
              "    <path d=\"M18.56 5.44l.94 2.06.94-2.06 2.06-.94-2.06-.94-.94-2.06-.94 2.06-2.06.94zm-11 1L8.5 8.5l.94-2.06 2.06-.94-2.06-.94L8.5 2.5l-.94 2.06-2.06.94zm10 10l.94 2.06.94-2.06 2.06-.94-2.06-.94-.94-2.06-.94 2.06-2.06.94z\"/><path d=\"M17.41 7.96l-1.37-1.37c-.4-.4-.92-.59-1.43-.59-.52 0-1.04.2-1.43.59L10.3 9.45l-7.72 7.72c-.78.78-.78 2.05 0 2.83L4 21.41c.39.39.9.59 1.41.59.51 0 1.02-.2 1.41-.59l7.78-7.78 2.81-2.81c.8-.78.8-2.07 0-2.86zM5.41 20L4 18.59l7.72-7.72 1.47 1.35L5.41 20z\"/>\n",
              "  </svg>\n",
              "      </button>\n",
              "      \n",
              "  <style>\n",
              "    .colab-df-container {\n",
              "      display:flex;\n",
              "      flex-wrap:wrap;\n",
              "      gap: 12px;\n",
              "    }\n",
              "\n",
              "    .colab-df-convert {\n",
              "      background-color: #E8F0FE;\n",
              "      border: none;\n",
              "      border-radius: 50%;\n",
              "      cursor: pointer;\n",
              "      display: none;\n",
              "      fill: #1967D2;\n",
              "      height: 32px;\n",
              "      padding: 0 0 0 0;\n",
              "      width: 32px;\n",
              "    }\n",
              "\n",
              "    .colab-df-convert:hover {\n",
              "      background-color: #E2EBFA;\n",
              "      box-shadow: 0px 1px 2px rgba(60, 64, 67, 0.3), 0px 1px 3px 1px rgba(60, 64, 67, 0.15);\n",
              "      fill: #174EA6;\n",
              "    }\n",
              "\n",
              "    [theme=dark] .colab-df-convert {\n",
              "      background-color: #3B4455;\n",
              "      fill: #D2E3FC;\n",
              "    }\n",
              "\n",
              "    [theme=dark] .colab-df-convert:hover {\n",
              "      background-color: #434B5C;\n",
              "      box-shadow: 0px 1px 3px 1px rgba(0, 0, 0, 0.15);\n",
              "      filter: drop-shadow(0px 1px 2px rgba(0, 0, 0, 0.3));\n",
              "      fill: #FFFFFF;\n",
              "    }\n",
              "  </style>\n",
              "\n",
              "      <script>\n",
              "        const buttonEl =\n",
              "          document.querySelector('#df-f5d5e551-74b7-4461-a8b6-0c38ac592018 button.colab-df-convert');\n",
              "        buttonEl.style.display =\n",
              "          google.colab.kernel.accessAllowed ? 'block' : 'none';\n",
              "\n",
              "        async function convertToInteractive(key) {\n",
              "          const element = document.querySelector('#df-f5d5e551-74b7-4461-a8b6-0c38ac592018');\n",
              "          const dataTable =\n",
              "            await google.colab.kernel.invokeFunction('convertToInteractive',\n",
              "                                                     [key], {});\n",
              "          if (!dataTable) return;\n",
              "\n",
              "          const docLinkHtml = 'Like what you see? Visit the ' +\n",
              "            '<a target=\"_blank\" href=https://colab.research.google.com/notebooks/data_table.ipynb>data table notebook</a>'\n",
              "            + ' to learn more about interactive tables.';\n",
              "          element.innerHTML = '';\n",
              "          dataTable['output_type'] = 'display_data';\n",
              "          await google.colab.output.renderOutput(dataTable, element);\n",
              "          const docLink = document.createElement('div');\n",
              "          docLink.innerHTML = docLinkHtml;\n",
              "          element.appendChild(docLink);\n",
              "        }\n",
              "      </script>\n",
              "    </div>\n",
              "  </div>\n",
              "  "
            ]
          },
          "metadata": {},
          "execution_count": 4
        }
      ]
    },
    {
      "cell_type": "code",
      "source": [
        "X = df.iloc[:,1:]\n",
        "Y = df.iloc[:,0:1]\n",
        "X.head()\n",
        "Y.head()\n",
        "print(X.shape)\n",
        "print(Y.shape)"
      ],
      "metadata": {
        "colab": {
          "base_uri": "https://localhost:8080/"
        },
        "id": "69gIhPR66pCX",
        "outputId": "ada179fa-49e9-4ae0-99ed-fe9f3e8f7f55"
      },
      "execution_count": null,
      "outputs": [
        {
          "output_type": "stream",
          "name": "stdout",
          "text": [
            "(27455, 784)\n",
            "(27455, 1)\n"
          ]
        }
      ]
    },
    {
      "cell_type": "markdown",
      "source": [
        "#Pruebas"
      ],
      "metadata": {
        "id": "usSslT5ELeMU"
      }
    },
    {
      "cell_type": "code",
      "source": [
        "pca_dims = PCA()\n",
        "pca_dims.fit(X)\n",
        "cumsum = np.cumsum(pca_dims.explained_variance_ratio_)\n",
        "d = np.argmax(cumsum >= 0.95) + 1\n",
        "print(d)"
      ],
      "metadata": {
        "colab": {
          "base_uri": "https://localhost:8080/"
        },
        "id": "_TJ8YqkXDu_X",
        "outputId": "3193f5f1-d880-4467-a6fa-0953f081b247"
      },
      "execution_count": null,
      "outputs": [
        {
          "output_type": "stream",
          "name": "stdout",
          "text": [
            "113\n"
          ]
        }
      ]
    },
    {
      "cell_type": "markdown",
      "source": [
        "Hemos pasado de dimensionalidad = 784 a solo 113."
      ],
      "metadata": {
        "id": "AkD1Idz3EJPb"
      }
    },
    {
      "cell_type": "code",
      "source": [
        "pca = PCA(n_components = d)\n",
        "X_reduced = pca.fit_transform(X) # reducir dimensionalidad\n",
        "X_recovered = pca.inverse_transform(X_reduced) # transformar de vuelta a dimension original"
      ],
      "metadata": {
        "id": "luBzhHy7EY2r"
      },
      "execution_count": null,
      "outputs": []
    },
    {
      "cell_type": "code",
      "source": [
        "print(\"reduced shape: \" + str(X_reduced.shape))\n",
        "print(\"recovered shape: \" + str(X_recovered.shape))"
      ],
      "metadata": {
        "colab": {
          "base_uri": "https://localhost:8080/"
        },
        "id": "fPG3PdtsEkCs",
        "outputId": "7e12d51b-ecb5-4a15-e251-13b0a5be13b1"
      },
      "execution_count": null,
      "outputs": [
        {
          "output_type": "stream",
          "name": "stdout",
          "text": [
            "reduced shape: (27455, 113)\n",
            "recovered shape: (27455, 784)\n"
          ]
        }
      ]
    },
    {
      "cell_type": "code",
      "source": [
        "X_recovered.shape"
      ],
      "metadata": {
        "colab": {
          "base_uri": "https://localhost:8080/"
        },
        "id": "8vH8xi5BSQZB",
        "outputId": "3c2ed2e6-c990-4c67-82f9-c16eeba9873c"
      },
      "execution_count": null,
      "outputs": [
        {
          "output_type": "execute_result",
          "data": {
            "text/plain": [
              "(27455, 784)"
            ]
          },
          "metadata": {},
          "execution_count": 34
        }
      ]
    },
    {
      "cell_type": "code",
      "source": [
        "plt.imshow(X_recovered[2].reshape((28,28)))"
      ],
      "metadata": {
        "colab": {
          "base_uri": "https://localhost:8080/",
          "height": 282
        },
        "id": "72KXXncNFGgq",
        "outputId": "8d967df2-bf09-47d1-83f6-87474a5ee40e"
      },
      "execution_count": null,
      "outputs": [
        {
          "output_type": "execute_result",
          "data": {
            "text/plain": [
              "<matplotlib.image.AxesImage at 0x7ff2e7cc4cd0>"
            ]
          },
          "metadata": {},
          "execution_count": 30
        },
        {
          "output_type": "display_data",
          "data": {
            "text/plain": [
              "<Figure size 432x288 with 1 Axes>"
            ],
            "image/png": "[encoded data removed]"
          },
          "metadata": {
            "needs_background": "light"
          }
        }
      ]
    },
    {
      "cell_type": "markdown",
      "source": [
        "#Funcion"
      ],
      "metadata": {
        "id": "JrMbbVnILhb8"
      }
    },
    {
      "cell_type": "code",
      "source": [
        "def reduceDimension(originalX):\n",
        "  pca_dims = PCA()\n",
        "  pca_dims.fit(originalX)\n",
        "  cumsum = np.cumsum(pca_dims.explained_variance_ratio_)\n",
        "  d = np.argmax(cumsum >= 0.95) + 1\n",
        "  pca = PCA(n_components = d)\n",
        "  reducedX = pca.fit_transform(originalX)\n",
        "  recoveredX = pca.inverse_transform(reducedX)\n",
        "  return reducedX, recoveredX"
      ],
      "metadata": {
        "id": "uBYxE8HsyJ93"
      },
      "execution_count": null,
      "outputs": []
    },
    {
      "cell_type": "code",
      "source": [
        "reducedX, recoveredX = reduceDimension(X)\n",
        "plt.imshow(recoveredX[2].reshape((28,28)))"
      ],
      "metadata": {
        "colab": {
          "base_uri": "https://localhost:8080/",
          "height": 282
        },
        "id": "uczMCwFVzipp",
        "outputId": "0e5621fa-32b2-4640-af64-34f6b2e2d34a"
      },
      "execution_count": null,
      "outputs": [
        {
          "output_type": "execute_result",
          "data": {
            "text/plain": [
              "<matplotlib.image.AxesImage at 0x7f65f0520dd0>"
            ]
          },
          "metadata": {},
          "execution_count": 7
        },
        {
          "output_type": "display_data",
          "data": {
            "text/plain": [
              "<Figure size 432x288 with 1 Axes>"
            ],
            "image/png": "[encoded data removed]"
          },
          "metadata": {
            "needs_background": "light"
          }
        }
      ]
    },
    {
      "cell_type": "markdown",
      "source": [
        "#SKLearn Support Vector Machine"
      ],
      "metadata": {
        "id": "73IzlY9O5hqY"
      }
    },
    {
      "cell_type": "code",
      "source": [
        "svc = make_pipeline(StandardScaler(), SVC(kernel='rbf', gamma='auto'))\n",
        "svc.fit(reducedX, Y)"
      ],
      "metadata": {
        "id": "e1DsEJrQ5k1L",
        "colab": {
          "base_uri": "https://localhost:8080/"
        },
        "outputId": "72fbb1ff-e967-4549-83bf-f77a55f48da1"
      },
      "execution_count": null,
      "outputs": [
        {
          "output_type": "stream",
          "name": "stderr",
          "text": [
            "/usr/local/lib/python3.7/dist-packages/sklearn/utils/validation.py:993: DataConversionWarning: A column-vector y was passed when a 1d array was expected. Please change the shape of y to (n_samples, ), for example using ravel().\n",
            "  y = column_or_1d(y, warn=True)\n"
          ]
        },
        {
          "output_type": "execute_result",
          "data": {
            "text/plain": [
              "Pipeline(steps=[('standardscaler', StandardScaler()),\n",
              "                ('svc', SVC(gamma='auto'))])"
            ]
          },
          "metadata": {},
          "execution_count": 8
        }
      ]
    },
    {
      "cell_type": "code",
      "source": [
        "testX = df.iloc[:,1:]\n",
        "testX.to_numpy()\n",
        "testY = df.iloc[:,0:1]"
      ],
      "metadata": {
        "id": "ujycbGhkMos7"
      },
      "execution_count": null,
      "outputs": []
    },
    {
      "cell_type": "code",
      "source": [
        "reducedTestX,recoveredTestX = reduceDimension(testX)\n",
        "res = svc.predict(reducedTestX)"
      ],
      "metadata": {
        "id": "jijpglC5PtJq"
      },
      "execution_count": null,
      "outputs": []
    },
    {
      "cell_type": "code",
      "source": [
        "print(res)"
      ],
      "metadata": {
        "colab": {
          "base_uri": "https://localhost:8080/"
        },
        "id": "B74B9-4_UfEO",
        "outputId": "68476f4e-a42d-4b70-aa95-32a98c0d33cd"
      },
      "execution_count": null,
      "outputs": [
        {
          "output_type": "stream",
          "name": "stdout",
          "text": [
            "[ 3  6  2 ... 18 17 23]\n"
          ]
        }
      ]
    },
    {
      "cell_type": "code",
      "source": [
        "print(testY)"
      ],
      "metadata": {
        "colab": {
          "base_uri": "https://localhost:8080/"
        },
        "id": "bjkjq0-iVQXE",
        "outputId": "715f548c-5645-4055-e726-9b372d525c45"
      },
      "execution_count": null,
      "outputs": [
        {
          "output_type": "stream",
          "name": "stdout",
          "text": [
            "       label\n",
            "0          3\n",
            "1          6\n",
            "2          2\n",
            "3          2\n",
            "4         13\n",
            "...      ...\n",
            "27450     13\n",
            "27451     23\n",
            "27452     18\n",
            "27453     17\n",
            "27454     23\n",
            "\n",
            "[27455 rows x 1 columns]\n"
          ]
        }
      ]
    },
    {
      "cell_type": "code",
      "source": [
        "print(svc.score(reducedTestX, testY))"
      ],
      "metadata": {
        "colab": {
          "base_uri": "https://localhost:8080/"
        },
        "id": "ovtu4dOFiL9c",
        "outputId": "64fb4e39-6a22-4e7f-c5d3-9bd1ff6b55c9"
      },
      "execution_count": null,
      "outputs": [
        {
          "output_type": "stream",
          "name": "stdout",
          "text": [
            "0.9987616099071207\n"
          ]
        }
      ]
    },
    {
      "cell_type": "code",
      "source": [
        "svc2 = make_pipeline(StandardScaler(), SVC(kernel='rbf', gamma='auto'))\n",
        "svc2.fit(X, Y)"
      ],
      "metadata": {
        "colab": {
          "base_uri": "https://localhost:8080/"
        },
        "id": "qlCbiBG-ixUq",
        "outputId": "7cc2e92f-24e0-4628-d05b-a884b71c31d1"
      },
      "execution_count": null,
      "outputs": [
        {
          "output_type": "stream",
          "name": "stderr",
          "text": [
            "/usr/local/lib/python3.7/dist-packages/sklearn/utils/validation.py:993: DataConversionWarning: A column-vector y was passed when a 1d array was expected. Please change the shape of y to (n_samples, ), for example using ravel().\n",
            "  y = column_or_1d(y, warn=True)\n"
          ]
        },
        {
          "output_type": "execute_result",
          "data": {
            "text/plain": [
              "Pipeline(steps=[('standardscaler', StandardScaler()),\n",
              "                ('svc', SVC(gamma='auto'))])"
            ]
          },
          "metadata": {},
          "execution_count": 31
        }
      ]
    },
    {
      "cell_type": "code",
      "source": [
        "print(svc2.score(testX, testY))\n",
        "\n",
        "X.head()\n",
        "Y.head()\n",
        "reducedX, recoveredX = reduceDimension(X)\n",
        "\n",
        "x = np.c_[df.iloc[:,0:1],reducedX]\n",
        "np.random.shuffle(x)"
      ],
      "metadata": {
        "colab": {
          "base_uri": "https://localhost:8080/"
        },
        "id": "JsVW5T3-jYkE",
        "outputId": "625e1880-5646-4da9-f435-0527de394a2c"
      },
      "execution_count": null,
      "outputs": [
        {
          "output_type": "stream",
          "name": "stdout",
          "text": [
            "1.0\n"
          ]
        }
      ]
    },
    {
      "cell_type": "code",
      "source": [
        "# K fold\n",
        "\n",
        "def get_k_fold(array, k , fold):\n",
        "  \"\"\"\n",
        "  Parameters\n",
        "  ----------\n",
        "  array : numpy array\n",
        "      array que se usara en las pruebas\n",
        "  k : int\n",
        "      numero de grupos que se crearan\n",
        "  fold : int\n",
        "      numero de grupo que se obtendra\n",
        "  Returns\n",
        "  -------\n",
        "  tuple\n",
        "      train y test, que se usaran en los experimentos\n",
        "  \"\"\"\n",
        "  size_group = int(array.shape[0]/k)\n",
        "  start = size_group * fold\n",
        "  end = size_group * (fold+1)\n",
        "  print(start)\n",
        "  print(end)\n",
        "  test = array[start:end,:]\n",
        "  train_start = array[0:start,:]\n",
        "  train_end = array[end+1:,:]\n",
        "  train = np.r_[train_start,train_end]\n",
        "  return train, test\n",
        "\n",
        "\n",
        "# Bootstrap\n",
        "\n",
        "# Idea obtenida de https://machinelearningmastery.com/a-gentle-introduction-to-the-bootstrap-method/\n",
        "def get_bootstrap(array):\n",
        "  \"\"\"\n",
        "  Parameters\n",
        "  ----------\n",
        "  array : numpy array\n",
        "      array que se usara en las pruebas\n",
        "  size : int\n",
        "      tamaño del train, el resto se usa para test\n",
        "  Returns\n",
        "  -------\n",
        "  tuple\n",
        "      train y test, que se usaran en los experimentos\n",
        "  \"\"\"\n",
        "  index = np.random.randint(x.shape[0], size=x.shape[0])\n",
        "  train = x[index, :]\n",
        "  test_index = []\n",
        "  for val in range(array.shape[0]):\n",
        "    if not val in index:\n",
        "      test_index.append(val)\n",
        "  test = x[test_index,:]\n",
        "  return train, test"
      ],
      "metadata": {
        "id": "ra2dt-4JC79K"
      },
      "execution_count": null,
      "outputs": []
    },
    {
      "cell_type": "code",
      "source": [
        "def test_SVC_k_fold(array, n_k, criterion, splitter):\n",
        "  rows, cols = 25,25\n",
        "  results = [([0]*cols) for i in range(rows)]\n",
        "  presicion_macro = []\n",
        "  presicion_micro = []\n",
        "  presicion_weighted = []\n",
        "  recall_macro = []\n",
        "  recall_micro = []\n",
        "  recall_weighted = []\n",
        "  F1_macro = []\n",
        "  F1_micro = []\n",
        "  F1_weighted = []\n",
        "  auc = []\n",
        "  for i in range(n_k):\n",
        "    predicted_list = []\n",
        "#    print(\"Fold: \", i)\n",
        "    train_i, test_i = get_k_fold(array, n_k, i)\n",
        "    assert(array.shape[1] == test_i.shape[1])\n",
        "    assert(train_i.shape[1] == test_i.shape[1])\n",
        "    x_train = train_i[:,1:]\n",
        "    y_train = train_i[:,0]\n",
        "    x_test = test_i[:,1:]\n",
        "    y_test = test_i[:,0]\n",
        "    svc =  SVC(kernel='rbf', gamma='auto')\n",
        "    svc.fit(x_train, y_train)    \n",
        "    for point in range(y_test.shape[0]):\n",
        "      predicted = desitionTree.predict([x_test[point,:]])[0]\n",
        "      real = y_test[point]\n",
        " #     print(real)\n",
        " #     print(predicted)\n",
        " #     print(\"Valor real = \", real, \" Valor predecido = \", predicted)\n",
        " #     print(\"Fold: \",i, \"Iteracion: \", point, \"Puntos Totales: \", y_test.shape[0])\n",
        "      predicted_list.append(predicted)\n",
        "    presicion_macro.append(precision_score(y_test, predicted_list, average='macro'))\n",
        "    presicion_micro.append(precision_score(y_test, predicted_list, average='micro'))\n",
        "    presicion_weighted.append(precision_score(y_test, predicted_list, average='weighted'))\n",
        "    recall_macro.append(precision_score(y_test, predicted_list, average='macro'))\n",
        "    recall_micro.append(precision_score(y_test, predicted_list, average='micro'))\n",
        "    recall_weighted.append(precision_score(y_test, predicted_list, average='weighted'))\n",
        "    F1_macro.append(precision_score(y_test, predicted_list, average='macro'))\n",
        "    F1_micro.append(precision_score(y_test, predicted_list, average='micro'))\n",
        "    F1_weighted.append(precision_score(y_test, predicted_list, average='weighted'))\n",
        "  mean_presicion_macro = np.mean(presicion_macro)\n",
        "  mean_presicion_micro = np.mean(presicion_micro)\n",
        "  mean_presicion_weight = np.mean(presicion_weighted)\n",
        "  mean_recall_macro = np.mean(recall_macro)\n",
        "  mean_recall_micro = np.mean(recall_micro)\n",
        "  mean_recall_weight = np.mean(recall_weighted)\n",
        "  mean_F1_macro = np.mean(F1_macro)\n",
        "  mean_F1_micro = np.mean(F1_micro)\n",
        "  mean_F1_weight = np.mean(F1_weighted)\n",
        "  return mean_presicion_macro, mean_presicion_micro, mean_presicion_weight, mean_recall_macro, mean_recall_micro, mean_F1_macro, mean_recall_weight, mean_F1_micro, mean_F1_weight\n",
        "  \n",
        "x_reduced = (x)\n",
        "\n",
        "for repetitions in [3,5,7,10]:\n",
        "  p_macro, p_micro, p_weight, r_macro, r_micro, r_weight, F1_macro, F1_micro, F1_weight = test_desition_tree_k_fold(x_reduced, repetitions)\n",
        "  print(\"Presicion Macro: \", p_macro, \"with \", repetitions, \" repetitions \")\n",
        "  print(\"Presicion Micro: \", p_micro, \"with \", repetitions, \" repetitions \")\n",
        "  print(\"Presicion weighted: \", p_weight, \"with \", repetitions, \" repetitions\")\n",
        "  print(\"Recall Macro: \", r_macro, \"with \", repetitions, \" repetitions  \")\n",
        "  print(\"Recall Micro: \", r_micro, \"with \", repetitions, \" repetitions\")\n",
        "  print(\"Recall weighted: \", r_weight, \"with \", repetitions, \" repetitions \")\n",
        "  print(\"F1 Macro: \", F1_macro, \"with \", repetitions, \" repetitions \")\n",
        "  print(\"F1 Micro: \", F1_micro, \"with \", repetitions, \" repetitions\")\n",
        "  print(\"F1 weighted: \", F1_weight, \"with \", repetitions, \" repetitions\")"
      ],
      "metadata": {
        "id": "GWCR_rqVC6o7"
      },
      "execution_count": null,
      "outputs": []
    }
  ]
}